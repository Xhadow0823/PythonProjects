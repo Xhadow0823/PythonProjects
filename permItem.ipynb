{
 "cells": [
  {
   "cell_type": "markdown",
   "metadata": {},
   "source": [
    "## How to permutate the item ?"
   ]
  },
  {
   "cell_type": "code",
   "execution_count": 4,
   "metadata": {},
   "outputs": [],
   "source": [
    "import permTest as pt\n",
    "import itertools as its"
   ]
  },
  {
   "cell_type": "code",
   "execution_count": 7,
   "metadata": {},
   "outputs": [
    {
     "name": "stdout",
     "output_type": "stream",
     "text": [
      "itemSet:\n",
      " [{'A'}, {'A', 'C'}, {'A', 'C', 'B'}, {'A', 'B'}, {'E'}, {'E', 'C'}, {'E', 'C', 'B'}, {'E', 'B'}, {'C'}, {'C', 'B'}, {'B'}]\n",
      "L1: [{'A'}, {'E'}, {'C'}, {'B'}]\n",
      "L2: [{'A', 'C'}, {'A', 'B'}, {'E', 'C'}, {'E', 'B'}, {'C', 'B'}]\n",
      "L3: [{'A', 'C', 'B'}, {'E', 'C', 'B'}]\n"
     ]
    }
   ],
   "source": [
    "print('itemSet:\\n',pt.itemset)\n",
    "print('L1:',pt.L1)\n",
    "print('L2:',pt.L2)\n",
    "print('L3:',pt.L3)"
   ]
  },
  {
   "cell_type": "code",
   "execution_count": 12,
   "metadata": {
    "scrolled": true
   },
   "outputs": [
    {
     "data": {
      "text/plain": [
       "[('A', 'C', 'B'),\n",
       " ('A', 'B', 'C'),\n",
       " ('C', 'A', 'B'),\n",
       " ('C', 'B', 'A'),\n",
       " ('B', 'A', 'C'),\n",
       " ('B', 'C', 'A')]"
      ]
     },
     "execution_count": 12,
     "metadata": {},
     "output_type": "execute_result"
    }
   ],
   "source": [
    "list(its.permutations({'A', 'C', 'B'}))"
   ]
  },
  {
   "cell_type": "code",
   "execution_count": 16,
   "metadata": {
    "scrolled": true
   },
   "outputs": [
    {
     "data": {
      "text/plain": [
       "[('D', 'A'), ('D', 'C'), ('D', 'B'), ('A', 'C'), ('A', 'B'), ('C', 'B')]"
      ]
     },
     "execution_count": 16,
     "metadata": {},
     "output_type": "execute_result"
    }
   ],
   "source": [
    "list(its.combinations({'A', 'C', 'B','D'}, 2))"
   ]
  },
  {
   "cell_type": "code",
   "execution_count": null,
   "metadata": {},
   "outputs": [],
   "source": []
  },
  {
   "cell_type": "code",
   "execution_count": 12,
   "metadata": {
    "scrolled": false
   },
   "outputs": [
    {
     "name": "stdout",
     "output_type": "stream",
     "text": [
      "{'C'} => {'B', 'A', 'E', 'D'}\n",
      "{'A'} => {'B', 'E', 'C', 'D'}\n",
      "{'E'} => {'B', 'A', 'C', 'D'}\n",
      "{'B'} => {'E', 'A', 'C', 'D'}\n",
      "{'D'} => {'B', 'E', 'A', 'C'}\n",
      "{'A', 'C'} => {'B', 'E', 'D'}\n",
      "{'E', 'C'} => {'B', 'A', 'D'}\n",
      "{'B', 'C'} => {'A', 'E', 'D'}\n",
      "{'C', 'D'} => {'B', 'A', 'E'}\n",
      "{'A', 'E'} => {'B', 'C', 'D'}\n",
      "{'B', 'A'} => {'E', 'C', 'D'}\n",
      "{'A', 'D'} => {'B', 'E', 'C'}\n",
      "{'B', 'E'} => {'A', 'C', 'D'}\n",
      "{'E', 'D'} => {'B', 'A', 'C'}\n",
      "{'B', 'D'} => {'E', 'A', 'C'}\n",
      "{'E', 'A', 'C'} => {'B', 'D'}\n",
      "{'B', 'A', 'C'} => {'E', 'D'}\n",
      "{'A', 'C', 'D'} => {'B', 'E'}\n",
      "{'B', 'E', 'C'} => {'A', 'D'}\n",
      "{'E', 'C', 'D'} => {'B', 'A'}\n",
      "{'B', 'C', 'D'} => {'A', 'E'}\n",
      "{'B', 'A', 'E'} => {'C', 'D'}\n",
      "{'A', 'E', 'D'} => {'B', 'C'}\n",
      "{'B', 'A', 'D'} => {'E', 'C'}\n",
      "{'B', 'E', 'D'} => {'A', 'C'}\n",
      "{'B', 'E', 'A', 'C'} => {'D'}\n",
      "{'E', 'A', 'C', 'D'} => {'B'}\n",
      "{'B', 'A', 'C', 'D'} => {'E'}\n",
      "{'B', 'E', 'C', 'D'} => {'A'}\n",
      "{'B', 'A', 'E', 'D'} => {'C'}\n"
     ]
    }
   ],
   "source": [
    "def allAssRul(freqSet, item):  #item : {'A', 'C', 'B','D'}\n",
    "    for r in range(1, len(item)):\n",
    "        for a in its.combinations(item, r):\n",
    "            print(set(a), '=>', item-set(a))#,':', freqSet[frozenset(item)]/freqSet[frozenset(a)])\n",
    "allAssRul(None, {'A','C','B','D','E'})"
   ]
  },
  {
   "cell_type": "code",
   "execution_count": 19,
   "metadata": {},
   "outputs": [
    {
     "data": {
      "text/plain": [
       "{'B'}"
      ]
     },
     "execution_count": 19,
     "metadata": {},
     "output_type": "execute_result"
    }
   ],
   "source": [
    "{'A', 'C', 'B','D'} - {'A', 'C','D'}"
   ]
  },
  {
   "cell_type": "code",
   "execution_count": null,
   "metadata": {},
   "outputs": [],
   "source": []
  }
 ],
 "metadata": {
  "kernelspec": {
   "display_name": "Python 3",
   "language": "python",
   "name": "python3"
  },
  "language_info": {
   "codemirror_mode": {
    "name": "ipython",
    "version": 3
   },
   "file_extension": ".py",
   "mimetype": "text/x-python",
   "name": "python",
   "nbconvert_exporter": "python",
   "pygments_lexer": "ipython3",
   "version": "3.7.4"
  }
 },
 "nbformat": 4,
 "nbformat_minor": 2
}
