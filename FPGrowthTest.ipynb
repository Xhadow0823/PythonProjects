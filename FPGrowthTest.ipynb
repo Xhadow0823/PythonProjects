{
 "cells": [
  {
   "cell_type": "code",
   "execution_count": 1,
   "metadata": {},
   "outputs": [],
   "source": [
    "# FP-growth test\n",
    "import fpGrowth"
   ]
  },
  {
   "cell_type": "code",
   "execution_count": 2,
   "metadata": {},
   "outputs": [],
   "source": [
    "parsedDat = [line.split() for line in open('mushroom.dat', 'r').readlines()]"
   ]
  },
  {
   "cell_type": "code",
   "execution_count": 3,
   "metadata": {},
   "outputs": [],
   "source": [
    "initSet = fpGrowth.createInitSet(parsedDat)"
   ]
  },
  {
   "cell_type": "code",
   "execution_count": 5,
   "metadata": {},
   "outputs": [],
   "source": [
    "myFPtree, myHeaderTab=fpGrowth.createTree(initSet, 813)"
   ]
  },
  {
   "cell_type": "code",
   "execution_count": 8,
   "metadata": {},
   "outputs": [],
   "source": [
    "myFreqList = []\n",
    "fpGrowth.mineTree(myFPtree, myHeaderTab, 813, set([]), myFreqList)"
   ]
  },
  {
   "cell_type": "code",
   "execution_count": 9,
   "metadata": {},
   "outputs": [
    {
     "data": {
      "text/plain": [
       "273964"
      ]
     },
     "execution_count": 9,
     "metadata": {},
     "output_type": "execute_result"
    }
   ],
   "source": [
    "len(myFreqList)"
   ]
  },
  {
   "cell_type": "code",
   "execution_count": 10,
   "metadata": {},
   "outputs": [],
   "source": [
    "simpDat = [['A', 'B', 'C', 'D'],\n",
    "           ['B', 'C', 'E'],\n",
    "           ['A', 'B', 'C', 'E'],\n",
    "           ['B']]"
   ]
  },
  {
   "cell_type": "code",
   "execution_count": 11,
   "metadata": {},
   "outputs": [],
   "source": [
    "iset = fpGrowth.createInitSet(simpDat)"
   ]
  },
  {
   "cell_type": "code",
   "execution_count": 12,
   "metadata": {},
   "outputs": [
    {
     "data": {
      "text/plain": [
       "{frozenset({'A', 'B', 'C', 'D'}): 1,\n",
       " frozenset({'B', 'C', 'E'}): 1,\n",
       " frozenset({'A', 'B', 'C', 'E'}): 1,\n",
       " frozenset({'B'}): 1}"
      ]
     },
     "execution_count": 12,
     "metadata": {},
     "output_type": "execute_result"
    }
   ],
   "source": [
    "iset"
   ]
  },
  {
   "cell_type": "code",
   "execution_count": 13,
   "metadata": {},
   "outputs": [],
   "source": [
    "tree, header = fpGrowth.createTree(iset, 2)"
   ]
  },
  {
   "cell_type": "code",
   "execution_count": 15,
   "metadata": {},
   "outputs": [
    {
     "name": "stdout",
     "output_type": "stream",
     "text": [
      "   Null Set   1\n",
      "     B   4\n",
      "       C   3\n",
      "         A   2\n",
      "           E   1\n",
      "         E   1\n"
     ]
    }
   ],
   "source": [
    "tree.disp(1)"
   ]
  },
  {
   "cell_type": "code",
   "execution_count": 16,
   "metadata": {},
   "outputs": [
    {
     "data": {
      "text/plain": [
       "{'B': [4, <fpGrowth.treeNode at 0x1bd497a4b48>],\n",
       " 'A': [2, <fpGrowth.treeNode at 0x1bd497a4888>],\n",
       " 'C': [3, <fpGrowth.treeNode at 0x1bd497a4948>],\n",
       " 'E': [2, <fpGrowth.treeNode at 0x1bd4c2e8cc8>]}"
      ]
     },
     "execution_count": 16,
     "metadata": {},
     "output_type": "execute_result"
    }
   ],
   "source": [
    "header"
   ]
  },
  {
   "cell_type": "code",
   "execution_count": 18,
   "metadata": {},
   "outputs": [],
   "source": [
    "fset = []\n",
    "fpGrowth.mineTree(tree, header, 2, set([]), fset)"
   ]
  },
  {
   "cell_type": "code",
   "execution_count": 19,
   "metadata": {},
   "outputs": [
    {
     "data": {
      "text/plain": [
       "[{'A'},\n",
       " {'A', 'C'},\n",
       " {'A', 'B', 'C'},\n",
       " {'A', 'B'},\n",
       " {'E'},\n",
       " {'C', 'E'},\n",
       " {'B', 'C', 'E'},\n",
       " {'B', 'E'},\n",
       " {'C'},\n",
       " {'B', 'C'},\n",
       " {'B'}]"
      ]
     },
     "execution_count": 19,
     "metadata": {},
     "output_type": "execute_result"
    }
   ],
   "source": [
    "fset"
   ]
  },
  {
   "cell_type": "code",
   "execution_count": 26,
   "metadata": {},
   "outputs": [
    {
     "name": "stdout",
     "output_type": "stream",
     "text": [
      "L^1 :  [{'A'}, {'E'}, {'C'}, {'B'}]\n",
      "L^2 :  [{'A', 'C'}, {'B', 'A'}, {'E', 'C'}, {'B', 'E'}, {'B', 'C'}]\n",
      "L^3 :  [{'B', 'A', 'C'}, {'B', 'E', 'C'}]\n"
     ]
    }
   ],
   "source": [
    "for i in range(1, 4):\n",
    "    print('L^'+str(i)+' : ', [a for a in fset if len(a)==i])"
   ]
  },
  {
   "cell_type": "code",
   "execution_count": null,
   "metadata": {},
   "outputs": [],
   "source": []
  }
 ],
 "metadata": {
  "kernelspec": {
   "display_name": "Python 3",
   "language": "python",
   "name": "python3"
  },
  "language_info": {
   "codemirror_mode": {
    "name": "ipython",
    "version": 3
   },
   "file_extension": ".py",
   "mimetype": "text/x-python",
   "name": "python",
   "nbconvert_exporter": "python",
   "pygments_lexer": "ipython3",
   "version": "3.7.4"
  }
 },
 "nbformat": 4,
 "nbformat_minor": 2
}
