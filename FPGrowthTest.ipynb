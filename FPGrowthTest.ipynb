{
 "cells": [
  {
   "cell_type": "code",
   "execution_count": 1,
   "metadata": {},
   "outputs": [],
   "source": [
    "# FP-growth test\n",
    "import fpGrowth\n",
    "import time"
   ]
  },
  {
   "cell_type": "code",
   "execution_count": 2,
   "metadata": {},
   "outputs": [],
   "source": [
    "parsedDat = [line.split() for line in open('mushroom.dat', 'r').readlines()]"
   ]
  },
  {
   "cell_type": "code",
   "execution_count": 3,
   "metadata": {},
   "outputs": [],
   "source": [
    "initSet = fpGrowth.createInitSet(parsedDat)"
   ]
  },
  {
   "cell_type": "code",
   "execution_count": 4,
   "metadata": {},
   "outputs": [],
   "source": [
    "myFPtree, myHeaderTab=fpGrowth.createTree(initSet, 813)"
   ]
  },
  {
   "cell_type": "code",
   "execution_count": 5,
   "metadata": {},
   "outputs": [
    {
     "name": "stdout",
     "output_type": "stream",
     "text": [
      "2.2674758434295654\n"
     ]
    }
   ],
   "source": [
    "t0 = time.time()\n",
    "myFreqList = {}\n",
    "fpGrowth.mineTree2(myFPtree, myHeaderTab, 813, set([]), myFreqList)\n",
    "print(time.time()-t0)"
   ]
  },
  {
   "cell_type": "code",
   "execution_count": 6,
   "metadata": {
    "scrolled": true
   },
   "outputs": [
    {
     "name": "stdout",
     "output_type": "stream",
     "text": [
      "total: 60362\n",
      "L 1 : 56\n",
      "L 2 : 763\n",
      "L 3 : 4593\n",
      "L 4 : 16150\n",
      "L 5 : 38800\n",
      "Rules 394175\n"
     ]
    }
   ],
   "source": [
    "print('total:',len(myFreqList))\n",
    "for l in range(1, 6):\n",
    "    cnt = 0\n",
    "    for i in myFreqList:\n",
    "        if len(i) == l:\n",
    "            #print(i)\n",
    "            cnt += 1\n",
    "    print('L',l,':',cnt)\n",
    "print('Rules', AllAssRul(myFreqList))"
   ]
  },
  {
   "cell_type": "code",
   "execution_count": 7,
   "metadata": {},
   "source": [
    "def AllAssRul(freqSet):\n",
    "    import itertools as its\n",
    "    ar=0\n",
    "    for item in freqSet.keys():\n",
    "        for r in range(1,len(item)):\n",
    "            for a in its.combinations(item,r):\n",
    "                if freqSet[frozenset(item)]/freqSet[frozenset(a)] >= 0.8:\n",
    "                    ar+=1\n",
    "    return ar"
   ]
  },
  {
   "cell_type": "code",
   "execution_count": 9,
   "metadata": {},
   "outputs": [
    {
     "name": "stdout",
     "output_type": "stream",
     "text": [
      "394175\n",
      "1.5691916942596436\n"
     ]
    }
   ],
   "source": [
    "t0 = time.time()\n",
    "print(AllAssRul(myFreqList))\n",
    "print(time.time()-t0)"
   ]
  },
  {
   "cell_type": "code",
   "execution_count": 6,
   "metadata": {},
   "outputs": [
    {
     "name": "stdout",
     "output_type": "stream",
     "text": [
      "3.212709426879883\n"
     ]
    }
   ],
   "source": [
    "# SPEED TEST\n",
    "import fpGrowth\n",
    "import time\n",
    "parsedDat = [line.split() for line in open('mushroom.dat', 'r').readlines()]\n",
    "t0 = time.time()\n",
    "initSet = fpGrowth.createInitSet(parsedDat)\n",
    "myFPtree, myHeaderTab=fpGrowth.createTree(initSet, 813)\n",
    "myFreqList = {}\n",
    "fpGrowth.mineTree2(myFPtree, myHeaderTab, 813, set([]), myFreqList)\n",
    "fpGrowth.AllAssRul(myFreqList)\n",
    "print(time.time()-t0)"
   ]
  },
  {
   "cell_type": "code",
   "execution_count": null,
   "metadata": {},
   "outputs": [],
   "source": []
  },
  {
   "cell_type": "markdown",
   "metadata": {},
   "source": [
    "### Simple DataSet Test"
   ]
  },
  {
   "cell_type": "code",
   "execution_count": 9,
   "metadata": {},
   "outputs": [],
   "source": [
    "simpDat = [['A', 'B', 'C', 'D'],\n",
    "           ['B', 'C', 'E'],\n",
    "           ['A', 'B', 'C', 'E'],\n",
    "           ['B']]"
   ]
  },
  {
   "cell_type": "code",
   "execution_count": 10,
   "metadata": {},
   "outputs": [],
   "source": [
    "iset = fpGrowth.createInitSet(simpDat)"
   ]
  },
  {
   "cell_type": "code",
   "execution_count": 11,
   "metadata": {},
   "outputs": [
    {
     "data": {
      "text/plain": [
       "{frozenset({'A', 'B', 'C', 'D'}): 1,\n",
       " frozenset({'B', 'C', 'E'}): 1,\n",
       " frozenset({'A', 'B', 'C', 'E'}): 1,\n",
       " frozenset({'B'}): 1}"
      ]
     },
     "execution_count": 11,
     "metadata": {},
     "output_type": "execute_result"
    }
   ],
   "source": [
    "iset"
   ]
  },
  {
   "cell_type": "code",
   "execution_count": null,
   "metadata": {},
   "outputs": [],
   "source": [
    "tree, header = fpGrowth.createTree(iset, 2)"
   ]
  },
  {
   "cell_type": "code",
   "execution_count": 6,
   "metadata": {},
   "outputs": [
    {
     "name": "stdout",
     "output_type": "stream",
     "text": [
      "   Null Set   1\n",
      "     B   4\n",
      "       C   3\n",
      "         A   2\n",
      "           E   1\n",
      "         E   1\n"
     ]
    }
   ],
   "source": [
    "tree.disp(1)"
   ]
  },
  {
   "cell_type": "code",
   "execution_count": 7,
   "metadata": {},
   "outputs": [
    {
     "data": {
      "text/plain": [
       "{'C': [3, <fpGrowth.treeNode at 0x230b6067708>],\n",
       " 'B': [4, <fpGrowth.treeNode at 0x230b6067608>],\n",
       " 'A': [2, <fpGrowth.treeNode at 0x230b6067788>],\n",
       " 'E': [2, <fpGrowth.treeNode at 0x230b6067048>]}"
      ]
     },
     "execution_count": 7,
     "metadata": {},
     "output_type": "execute_result"
    }
   ],
   "source": [
    "header"
   ]
  },
  {
   "cell_type": "code",
   "execution_count": 8,
   "metadata": {},
   "outputs": [
    {
     "name": "stdout",
     "output_type": "stream",
     "text": [
      "finalFrequent Item:  {'A'}\n",
      "condPattBases : A {frozenset({'C', 'B'}): 2}\n",
      "head from conditional tree:  {'C': [2, <fpGrowth.treeNode object at 0x00000230B608C088>], 'B': [2, <fpGrowth.treeNode object at 0x00000230B608C148>]}\n",
      "conditional tree for:  {'A'}\n",
      "   Null Set   1\n",
      "     C   2\n",
      "       B   2\n",
      "finalFrequent Item:  {'C', 'A'}\n",
      "condPattBases : C {}\n",
      "head from conditional tree:  None\n",
      "finalFrequent Item:  {'B', 'A'}\n",
      "condPattBases : B {frozenset({'C'}): 2}\n",
      "head from conditional tree:  {'C': [2, <fpGrowth.treeNode object at 0x00000230B608C508>]}\n",
      "conditional tree for:  {'B', 'A'}\n",
      "   Null Set   1\n",
      "     C   2\n",
      "finalFrequent Item:  {'C', 'B', 'A'}\n",
      "condPattBases : C {}\n",
      "head from conditional tree:  None\n",
      "finalFrequent Item:  {'E'}\n",
      "condPattBases : E {frozenset({'C', 'B'}): 1, frozenset({'C', 'B', 'A'}): 1}\n",
      "head from conditional tree:  {'C': [2, <fpGrowth.treeNode object at 0x00000230B608C788>], 'B': [2, <fpGrowth.treeNode object at 0x00000230B608C808>]}\n",
      "conditional tree for:  {'E'}\n",
      "   Null Set   1\n",
      "     C   2\n",
      "       B   2\n",
      "finalFrequent Item:  {'C', 'E'}\n",
      "condPattBases : C {}\n",
      "head from conditional tree:  None\n",
      "finalFrequent Item:  {'B', 'E'}\n",
      "condPattBases : B {frozenset({'C'}): 2}\n",
      "head from conditional tree:  {'C': [2, <fpGrowth.treeNode object at 0x00000230B604DA48>]}\n",
      "conditional tree for:  {'B', 'E'}\n",
      "   Null Set   1\n",
      "     C   2\n",
      "finalFrequent Item:  {'C', 'B', 'E'}\n",
      "condPattBases : C {}\n",
      "head from conditional tree:  None\n",
      "finalFrequent Item:  {'C'}\n",
      "condPattBases : C {frozenset({'B'}): 3}\n",
      "head from conditional tree:  {'B': [3, <fpGrowth.treeNode object at 0x00000230B6067408>]}\n",
      "conditional tree for:  {'C'}\n",
      "   Null Set   1\n",
      "     B   3\n",
      "finalFrequent Item:  {'C', 'B'}\n",
      "condPattBases : B {}\n",
      "head from conditional tree:  None\n",
      "finalFrequent Item:  {'B'}\n",
      "condPattBases : B {}\n",
      "head from conditional tree:  None\n"
     ]
    }
   ],
   "source": [
    "fset = {}\n",
    "fpGrowth.mineTreeP(tree, header, 2, set([]), fset)"
   ]
  },
  {
   "cell_type": "code",
   "execution_count": 9,
   "metadata": {},
   "outputs": [
    {
     "data": {
      "text/plain": [
       "{frozenset({'A'}): 2,\n",
       " frozenset({'A', 'C'}): 2,\n",
       " frozenset({'A', 'B'}): 2,\n",
       " frozenset({'A', 'B', 'C'}): 2,\n",
       " frozenset({'E'}): 2,\n",
       " frozenset({'C', 'E'}): 2,\n",
       " frozenset({'B', 'E'}): 2,\n",
       " frozenset({'B', 'C', 'E'}): 2,\n",
       " frozenset({'C'}): 3,\n",
       " frozenset({'B', 'C'}): 3,\n",
       " frozenset({'B'}): 4}"
      ]
     },
     "execution_count": 9,
     "metadata": {},
     "output_type": "execute_result"
    }
   ],
   "source": [
    "fset"
   ]
  },
  {
   "cell_type": "code",
   "execution_count": 10,
   "metadata": {},
   "outputs": [
    {
     "name": "stdout",
     "output_type": "stream",
     "text": [
      "L^1 :  [{'A'}, {'E'}, {'C'}, {'B'}]\n",
      "L^2 :  [{'C', 'A'}, {'B', 'A'}, {'C', 'E'}, {'B', 'E'}, {'C', 'B'}]\n",
      "L^3 :  [{'C', 'B', 'A'}, {'C', 'B', 'E'}]\n",
      "L^4 :  []\n"
     ]
    }
   ],
   "source": [
    "for i in range(1, 5):\n",
    "    print('L^'+str(i)+' : ', [set(a) for a in fset.keys() if len(a)==i])"
   ]
  },
  {
   "cell_type": "code",
   "execution_count": 11,
   "metadata": {},
   "outputs": [
    {
     "data": {
      "text/plain": [
       "3"
      ]
     },
     "execution_count": 11,
     "metadata": {},
     "output_type": "execute_result"
    }
   ],
   "source": [
    "fset[frozenset({'B', 'C'})]"
   ]
  },
  {
   "cell_type": "code",
   "execution_count": 20,
   "metadata": {},
   "outputs": [
    {
     "data": {
      "text/plain": [
       "[frozenset({'A', 'B', 'C'}), frozenset({'B', 'C', 'E'})]"
      ]
     },
     "execution_count": 20,
     "metadata": {},
     "output_type": "execute_result"
    }
   ],
   "source": [
    "L3 = [i for i in fset.keys() if len(i)==3]\n",
    "L3"
   ]
  },
  {
   "cell_type": "code",
   "execution_count": 23,
   "metadata": {},
   "outputs": [
    {
     "name": "stdout",
     "output_type": "stream",
     "text": [
      "{'C'} => frozenset({'B', 'E'}) : 1.0\n",
      "{'B'} => frozenset({'C', 'E'}) : 1.0\n",
      "{'E'} => frozenset({'C', 'B'}) : 0.6666666666666666\n",
      "{'C', 'B'} => frozenset({'E'}) : 1.0\n",
      "{'C', 'E'} => frozenset({'B'}) : 0.5\n",
      "{'B', 'E'} => frozenset({'C'}) : 0.6666666666666666\n"
     ]
    }
   ],
   "source": [
    "import itertools as its\n",
    "def allAssRul(freqSet, item):  #item : {'A', 'C', 'B','D'}\n",
    "    for r in range(1, len(item)):\n",
    "        for a in its.combinations(item, r):\n",
    "            print(set(a), '=>', item-set(a),':', freqSet[frozenset(item)]/freqSet[frozenset(item-set(a))])\n",
    "allAssRul(fset, L3[1])"
   ]
  },
  {
   "cell_type": "code",
   "execution_count": null,
   "metadata": {},
   "outputs": [],
   "source": []
  }
 ],
 "metadata": {
  "kernelspec": {
   "display_name": "Python 3",
   "language": "python",
   "name": "python3"
  },
  "language_info": {
   "codemirror_mode": {
    "name": "ipython",
    "version": 3
   },
   "file_extension": ".py",
   "mimetype": "text/x-python",
   "name": "python",
   "nbconvert_exporter": "python",
   "pygments_lexer": "ipython3",
   "version": "3.7.4"
  }
 },
 "nbformat": 4,
 "nbformat_minor": 2
}
