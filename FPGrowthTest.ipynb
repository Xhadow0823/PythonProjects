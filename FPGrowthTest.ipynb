{
 "cells": [
  {
   "cell_type": "code",
   "execution_count": 1,
   "metadata": {},
   "outputs": [],
   "source": [
    "# FP-growth test\n",
    "import fpGrowth"
   ]
  },
  {
   "cell_type": "code",
   "execution_count": 2,
   "metadata": {},
   "outputs": [],
   "source": [
    "parsedDat = [line.split() for line in open('mushroom.dat', 'r').readlines()]"
   ]
  },
  {
   "cell_type": "code",
   "execution_count": 3,
   "metadata": {},
   "outputs": [],
   "source": [
    "initSet = fpGrowth.createInitSet(parsedDat)"
   ]
  },
  {
   "cell_type": "code",
   "execution_count": 5,
   "metadata": {},
   "outputs": [],
   "source": [
    "myFPtree, myHeaderTab=fpGrowth.createTree(initSet, 813)"
   ]
  },
  {
   "cell_type": "code",
   "execution_count": 8,
   "metadata": {},
   "outputs": [],
   "source": [
    "myFreqList = []\n",
    "fpGrowth.mineTree(myFPtree, myHeaderTab, 813, set([]), myFreqList)"
   ]
  },
  {
   "cell_type": "code",
   "execution_count": 9,
   "metadata": {},
   "outputs": [
    {
     "data": {
      "text/plain": [
       "273964"
      ]
     },
     "execution_count": 9,
     "metadata": {},
     "output_type": "execute_result"
    }
   ],
   "source": [
    "len(myFreqList)"
   ]
  },
  {
   "cell_type": "code",
   "execution_count": 2,
   "metadata": {},
   "outputs": [],
   "source": [
    "simpDat = [['A', 'B', 'C', 'D'],\n",
    "           ['B', 'C', 'E'],\n",
    "           ['A', 'B', 'C', 'E'],\n",
    "           ['B']]"
   ]
  },
  {
   "cell_type": "code",
   "execution_count": 3,
   "metadata": {},
   "outputs": [],
   "source": [
    "iset = fpGrowth.createInitSet(simpDat)"
   ]
  },
  {
   "cell_type": "code",
   "execution_count": 4,
   "metadata": {},
   "outputs": [
    {
     "data": {
      "text/plain": [
       "{frozenset({'A', 'B', 'C', 'D'}): 1,\n",
       " frozenset({'B', 'C', 'E'}): 1,\n",
       " frozenset({'A', 'B', 'C', 'E'}): 1,\n",
       " frozenset({'B'}): 1}"
      ]
     },
     "execution_count": 4,
     "metadata": {},
     "output_type": "execute_result"
    }
   ],
   "source": [
    "iset"
   ]
  },
  {
   "cell_type": "code",
   "execution_count": 5,
   "metadata": {},
   "outputs": [],
   "source": [
    "tree, header = fpGrowth.createTree(iset, 2)"
   ]
  },
  {
   "cell_type": "code",
   "execution_count": 6,
   "metadata": {},
   "outputs": [
    {
     "name": "stdout",
     "output_type": "stream",
     "text": [
      "   Null Set   1\n",
      "     B   4\n",
      "       C   3\n",
      "         A   1\n",
      "         E   2\n",
      "           A   1\n"
     ]
    }
   ],
   "source": [
    "tree.disp(1)"
   ]
  },
  {
   "cell_type": "code",
   "execution_count": 7,
   "metadata": {},
   "outputs": [
    {
     "data": {
      "text/plain": [
       "{'A': [2, <fpGrowth.treeNode at 0x1b037281808>],\n",
       " 'B': [4, <fpGrowth.treeNode at 0x1b037281488>],\n",
       " 'C': [3, <fpGrowth.treeNode at 0x1b0372815c8>],\n",
       " 'E': [2, <fpGrowth.treeNode at 0x1b0372817c8>]}"
      ]
     },
     "execution_count": 7,
     "metadata": {},
     "output_type": "execute_result"
    }
   ],
   "source": [
    "header"
   ]
  },
  {
   "cell_type": "code",
   "execution_count": 8,
   "metadata": {},
   "outputs": [
    {
     "name": "stdout",
     "output_type": "stream",
     "text": [
      "finalFrequent Item:  {'E'}\n",
      "condPattBases : E {frozenset({'B', 'C'}): 2}\n",
      "head from conditional tree:  {'B': [2, <fpGrowth.treeNode object at 0x000001B03729BF08>], 'C': [2, <fpGrowth.treeNode object at 0x000001B03729BF88>]}\n",
      "conditional tree for:  {'E'}\n",
      "   Null Set   1\n",
      "     B   2\n",
      "       C   2\n",
      "finalFrequent Item:  {'E', 'B'}\n",
      "condPattBases : B {}\n",
      "head from conditional tree:  None\n",
      "finalFrequent Item:  {'E', 'C'}\n",
      "condPattBases : C {frozenset({'B'}): 2}\n",
      "head from conditional tree:  {'B': [2, <fpGrowth.treeNode object at 0x000001B0372AB348>]}\n",
      "conditional tree for:  {'E', 'C'}\n",
      "   Null Set   1\n",
      "     B   2\n",
      "finalFrequent Item:  {'E', 'B', 'C'}\n",
      "condPattBases : B {}\n",
      "head from conditional tree:  None\n",
      "finalFrequent Item:  {'A'}\n",
      "condPattBases : A {frozenset({'B', 'C'}): 1, frozenset({'E', 'B', 'C'}): 1}\n",
      "head from conditional tree:  {'B': [2, <fpGrowth.treeNode object at 0x000001B0372AB608>], 'C': [2, <fpGrowth.treeNode object at 0x000001B0372AB688>]}\n",
      "conditional tree for:  {'A'}\n",
      "   Null Set   1\n",
      "     B   2\n",
      "       C   2\n",
      "finalFrequent Item:  {'A', 'B'}\n",
      "condPattBases : B {}\n",
      "head from conditional tree:  None\n",
      "finalFrequent Item:  {'A', 'C'}\n",
      "condPattBases : C {frozenset({'B'}): 2}\n",
      "head from conditional tree:  {'B': [2, <fpGrowth.treeNode object at 0x000001B0372ABA08>]}\n",
      "conditional tree for:  {'A', 'C'}\n",
      "   Null Set   1\n",
      "     B   2\n",
      "finalFrequent Item:  {'A', 'B', 'C'}\n",
      "condPattBases : B {}\n",
      "head from conditional tree:  None\n",
      "finalFrequent Item:  {'C'}\n",
      "condPattBases : C {frozenset({'B'}): 3}\n",
      "head from conditional tree:  {'B': [3, <fpGrowth.treeNode object at 0x000001B0372ABB88>]}\n",
      "conditional tree for:  {'C'}\n",
      "   Null Set   1\n",
      "     B   3\n",
      "finalFrequent Item:  {'B', 'C'}\n",
      "condPattBases : B {}\n",
      "head from conditional tree:  None\n",
      "finalFrequent Item:  {'B'}\n",
      "condPattBases : B {}\n",
      "head from conditional tree:  None\n"
     ]
    }
   ],
   "source": [
    "fset = []\n",
    "fpGrowth.mineTree(tree, header, 2, set([]), fset)"
   ]
  },
  {
   "cell_type": "code",
   "execution_count": 9,
   "metadata": {},
   "outputs": [
    {
     "data": {
      "text/plain": [
       "[{'A'},\n",
       " {'A', 'C'},\n",
       " {'A', 'B'},\n",
       " {'A', 'B', 'C'},\n",
       " {'E'},\n",
       " {'C', 'E'},\n",
       " {'B', 'E'},\n",
       " {'B', 'C', 'E'},\n",
       " {'C'},\n",
       " {'B', 'C'},\n",
       " {'B'}]"
      ]
     },
     "execution_count": 9,
     "metadata": {},
     "output_type": "execute_result"
    }
   ],
   "source": [
    "fset"
   ]
  },
  {
   "cell_type": "code",
   "execution_count": 10,
   "metadata": {},
   "outputs": [
    {
     "name": "stdout",
     "output_type": "stream",
     "text": [
      "L^1 :  [{'A'}, {'E'}, {'C'}, {'B'}]\n",
      "L^2 :  [{'A', 'C'}, {'A', 'B'}, {'E', 'C'}, {'E', 'B'}, {'C', 'B'}]\n",
      "L^3 :  [{'A', 'C', 'B'}, {'E', 'C', 'B'}]\n"
     ]
    }
   ],
   "source": [
    "for i in range(1, 4):\n",
    "    print('L^'+str(i)+' : ', [a for a in fset if len(a)==i])"
   ]
  },
  {
   "cell_type": "code",
   "execution_count": null,
   "metadata": {},
   "outputs": [],
   "source": []
  }
 ],
 "metadata": {
  "kernelspec": {
   "display_name": "Python 3",
   "language": "python",
   "name": "python3"
  },
  "language_info": {
   "codemirror_mode": {
    "name": "ipython",
    "version": 3
   },
   "file_extension": ".py",
   "mimetype": "text/x-python",
   "name": "python",
   "nbconvert_exporter": "python",
   "pygments_lexer": "ipython3",
   "version": "3.7.4"
  }
 },
 "nbformat": 4,
 "nbformat_minor": 2
}
